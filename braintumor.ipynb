{
 "cells": [
  {
   "cell_type": "code",
   "execution_count": null,
   "id": "05668012",
   "metadata": {},
   "outputs": [],
   "source": [
    "import torch\n",
    "from torch import nn\n",
    "from torchvision import datasets, transforms\n",
    "from torch.utils.data import DataLoader\n",
    "\n",
    "device = torch.device(\"cuda\" if torch.cuda.is_available() else \"cpu\")\n",
    "\n",
    "tf = transforms.Compose([\n",
    "    transforms.Resize((28, 28)),\n",
    "    transforms.ToTensor(),\n",
    "    transforms.Normalize([0.5, 0.5, 0.5], [0.5, 0.5, 0.5])\n",
    "])\n",
    "\n",
    "train_dl = DataLoader(\n",
    "    datasets.ImageFolder('Training/', tf),\n",
    "    batch_size=32, shuffle=True, num_workers=4, pin_memory=True\n",
    ")\n",
    "\n",
    "test_dl = DataLoader(\n",
    "    datasets.ImageFolder('Testing/', tf),\n",
    "    batch_size=32, shuffle=False, num_workers=4, pin_memory=True\n",
    ")\n"
   ]
  },
  {
   "cell_type": "code",
   "execution_count": null,
   "id": "17ace8d4",
   "metadata": {},
   "outputs": [],
   "source": [
    "model = nn.Sequential(\n",
    "    nn.Conv2d(3, 32, 3, 1, 1), nn.ReLU(), nn.MaxPool2d(2, 2),\n",
    "    nn.Conv2d(32, 64, 3, 1, 1), nn.ReLU(), nn.MaxPool2d(2, 2),\n",
    "    nn.Conv2d(64, 128, 3, 1, 1), nn.ReLU(), nn.MaxPool2d(2, 2),\n",
    "    nn.Flatten(),\n",
    "    nn.Linear(128 * 3 * 3, 256), nn.ReLU(), nn.Dropout(0.2), \n",
    "    nn.Linear(256, 4) \n",
    ").to(device)"
   ]
  },
  {
   "cell_type": "code",
   "execution_count": null,
   "id": "dad87edc",
   "metadata": {},
   "outputs": [],
   "source": [
    "from torch import optim\n",
    "\n",
    "opt = optim.AdamW(model.parameters(), 1e-4)\n",
    "loss_fn = nn.CrossEntropyLoss()"
   ]
  },
  {
   "cell_type": "code",
   "execution_count": null,
   "id": "c5e22a9b",
   "metadata": {},
   "outputs": [],
   "source": [
    "model.train()\n",
    "\n",
    "for epoch in range(25):\n",
    "    running_loss = 0.0\n",
    "    for x, y in train_dl:\n",
    "        opt.zero_grad()\n",
    "        \n",
    "        loss = loss_fn(model(x.to(device)), y.to(device))\n",
    "        loss.backward()\n",
    "        \n",
    "        running_loss += loss.item()\n",
    "        opt.step()\n",
    "    print(f\"Epoch {epoch+1} - Loss: {running_loss}\")\n",
    "    "
   ]
  },
  {
   "cell_type": "code",
   "execution_count": 15,
   "id": "ab2fc002",
   "metadata": {},
   "outputs": [
    {
     "name": "stderr",
     "output_type": "stream",
     "text": [
      "c:\\Users\\Abdullah\\neuralnine\\venv\\Lib\\site-packages\\torch\\utils\\data\\dataloader.py:666: UserWarning: 'pin_memory' argument is set as true but no accelerator is found, then device pinned memory won't be used.\n",
      "  warnings.warn(warn_msg)\n"
     ]
    },
    {
     "name": "stdout",
     "output_type": "stream",
     "text": [
      "Test Loss: 0.32019040754603395, Accuracy: 87.80%\n"
     ]
    }
   ],
   "source": [
    "model.eval()\n",
    "test_loss, correct = 0.0, 0\n",
    "\n",
    "with torch.no_grad():\n",
    "    for x, y in test_dl:\n",
    "        x, y = x.to(device), y.to(device)\n",
    "        \n",
    "        logits = model(x)\n",
    "        test_loss += loss_fn(logits, y).item() * y.size(0)\n",
    "        preds = logits.argmax(dim=1)\n",
    "        correct += (preds == y).sum().item()\n",
    "        \n",
    "test_loss /= len(test_dl.dataset)\n",
    "accuracy = correct / len(test_dl.dataset)\n",
    "print(f\"Test Loss: {test_loss}, Accuracy: {accuracy*100:.2f}%\")\n",
    "        "
   ]
  },
  {
   "cell_type": "code",
   "execution_count": 16,
   "id": "e530a6fa",
   "metadata": {},
   "outputs": [
    {
     "data": {
      "image/png": "[encoded data removed]",
      "text/plain": [
       "<Figure size 640x480 with 1 Axes>"
      ]
     },
     "metadata": {},
     "output_type": "display_data"
    },
    {
     "name": "stdout",
     "output_type": "stream",
     "text": [
      "Predicted: glioma, Actual: glioma\n"
     ]
    }
   ],
   "source": [
    "import random\n",
    "\n",
    "import matplotlib.pyplot as plt\n",
    "from torchvision.transforms.functional import to_pil_image\n",
    "\n",
    "model.eval()\n",
    "\n",
    "idx = random.randrange(len(test_dl.dataset))\n",
    "img, label = test_dl.dataset[idx]\n",
    "\n",
    "unnorm = img * 0.5 + 0.5\n",
    "plt.imshow(to_pil_image(unnorm))\n",
    "plt.axis('off')\n",
    "plt.title('Sample from test set')\n",
    "plt.show()\n",
    "\n",
    "with torch.no_grad():\n",
    "    logits = model(img.unsqueeze(0).to(device))\n",
    "    pred = logits.argmax(dim=1).item()\n",
    "    \n",
    "class_names = test_dl.dataset.classes\n",
    "print(f\"Predicted: {class_names[pred]}, Actual: {class_names[label]}\")"
   ]
  },
  {
   "cell_type": "code",
   "execution_count": null,
   "id": "ea3df55b",
   "metadata": {},
   "outputs": [],
   "source": []
  }
 ],
 "metadata": {
  "kernelspec": {
   "display_name": "venv",
   "language": "python",
   "name": "python3"
  },
  "language_info": {
   "codemirror_mode": {
    "name": "ipython",
    "version": 3
   },
   "file_extension": ".py",
   "mimetype": "text/x-python",
   "name": "python",
   "nbconvert_exporter": "python",
   "pygments_lexer": "ipython3",
   "version": "3.11.0"
  }
 },
 "nbformat": 4,
 "nbformat_minor": 5
}
